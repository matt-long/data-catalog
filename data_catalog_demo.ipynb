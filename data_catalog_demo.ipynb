{
 "cells": [
  {
   "cell_type": "markdown",
   "metadata": {},
   "source": [
    "# Demonstrate data catalog functionality\n",
    "\n",
    "`data_catalog` enables a user to define data catalogs with an input file.\n"
   ]
  },
  {
   "cell_type": "code",
   "execution_count": 14,
   "metadata": {},
   "outputs": [],
   "source": [
    "import data_catalog\n",
    "import importlib\n",
    "import yaml"
   ]
  },
  {
   "cell_type": "markdown",
   "metadata": {},
   "source": [
    "## here's what the input file looks like"
   ]
  },
  {
   "cell_type": "code",
   "execution_count": 15,
   "metadata": {},
   "outputs": [
    {
     "name": "stdout",
     "output_type": "stream",
     "text": [
      "cesm2_cmip6:\n",
      "  type: cesm\n",
      "  data_sources:\n",
      "    ctrl_bdrd_cmip6:\n",
      "      - case: b.e21.B1850.f09_g17.CMIP6-piControl.001\n",
      "        root_dir: /glade/collections/cdg/timeseries-cmip6/b.e21.B1850.f09_g17.CMIP6-piControl.001\n",
      "        ctrl_branch_year: 0\n",
      "        component_attrs:\n",
      "          ocn:\n",
      "            grid: POP_gx1v7\n",
      "\n",
      "    historical_bdrd_cmip6:\n",
      "      - case: b.e21.BHIST.f09_g17.CMIP6-historical.001\n",
      "        root_dir: /glade/collections/cdg/timeseries-cmip6/b.e21.BHIST.f09_g17.CMIP6-historical.001\n",
      "        ctrl_branch_year: 601\n",
      "        component_attrs:\n",
      "          ocn:\n",
      "            grid: POP_gx1v7\n",
      "\n",
      "      - case: b.e21.BHIST.f09_g17.CMIP6-historical.002\n",
      "        root_dir: /glade/collections/cdg/timeseries-cmip6/b.e21.BHIST.f09_g17.CMIP6-historical.002\n",
      "        ctrl_branch_year: 631\n",
      "        component_attrs:\n",
      "          ocn:\n",
      "            grid: POP_gx1v7\n",
      "\n",
      "      - case: b.e21.BHIST.f09_g17.CMIP6-historical.003\n",
      "        root_dir: /glade/collections/cdg/timeseries-cmip6/b.e21.BHIST.f09_g17.CMIP6-historical.003\n",
      "        ctrl_branch_year: 661\n",
      "        component_attrs:\n"
     ]
    }
   ],
   "source": [
    "!head -n 30 collections_cesm2_cmip6.yml"
   ]
  },
  {
   "cell_type": "markdown",
   "metadata": {},
   "source": [
    "## build the catalog"
   ]
  },
  {
   "cell_type": "code",
   "execution_count": 16,
   "metadata": {},
   "outputs": [
    {
     "name": "stdout",
     "output_type": "stream",
     "text": [
      "active catalog: cesm2_cmip6\n"
     ]
    }
   ],
   "source": [
    "importlib.reload(data_catalog)\n",
    "data_catalog.build_catalog('collections_cesm2_cmip6.yml', clobber=False)"
   ]
  },
  {
   "cell_type": "markdown",
   "metadata": {},
   "source": [
    "## set the active catalog\n",
    "\n",
    "This is not implemented correctly, but a present, you can set the active catalog as follows."
   ]
  },
  {
   "cell_type": "code",
   "execution_count": 17,
   "metadata": {},
   "outputs": [
    {
     "name": "stdout",
     "output_type": "stream",
     "text": [
      "active catalog: cesm2_cmip6\n"
     ]
    }
   ],
   "source": [
    "data_catalog.set_catalog('cesm2_cmip6')"
   ]
  },
  {
   "cell_type": "markdown",
   "metadata": {},
   "source": [
    "## find entries matching query\n",
    "\n",
    "Here's an example of where there's one file per variable, per ensemble"
   ]
  },
  {
   "cell_type": "code",
   "execution_count": 18,
   "metadata": {},
   "outputs": [
    {
     "data": {
      "text/html": [
       "<div>\n",
       "<style scoped>\n",
       "    .dataframe tbody tr th:only-of-type {\n",
       "        vertical-align: middle;\n",
       "    }\n",
       "\n",
       "    .dataframe tbody tr th {\n",
       "        vertical-align: top;\n",
       "    }\n",
       "\n",
       "    .dataframe thead th {\n",
       "        text-align: right;\n",
       "    }\n",
       "</style>\n",
       "<table border=\"1\" class=\"dataframe\">\n",
       "  <thead>\n",
       "    <tr style=\"text-align: right;\">\n",
       "      <th></th>\n",
       "      <th>case</th>\n",
       "      <th>component</th>\n",
       "      <th>date_range</th>\n",
       "      <th>ensemble</th>\n",
       "      <th>experiment</th>\n",
       "      <th>file_basename</th>\n",
       "      <th>files</th>\n",
       "      <th>grid</th>\n",
       "      <th>sequence_order</th>\n",
       "      <th>stream</th>\n",
       "      <th>variable</th>\n",
       "      <th>year_offset</th>\n",
       "      <th>ctrl_branch_year</th>\n",
       "      <th>has_ocean_bgc</th>\n",
       "    </tr>\n",
       "  </thead>\n",
       "  <tbody>\n",
       "    <tr>\n",
       "      <th>12133</th>\n",
       "      <td>b.e21.BHIST.f09_g17.CMIP6-historical.001</td>\n",
       "      <td>ocn</td>\n",
       "      <td>['185001', '201412']</td>\n",
       "      <td>0</td>\n",
       "      <td>historical_bdrd_cmip6</td>\n",
       "      <td>b.e21.BHIST.f09_g17.CMIP6-historical.001.pop.h...</td>\n",
       "      <td>/glade/collections/cdg/timeseries-cmip6/b.e21....</td>\n",
       "      <td>POP_gx1v7</td>\n",
       "      <td>0</td>\n",
       "      <td>pop.h</td>\n",
       "      <td>FG_CO2</td>\n",
       "      <td>NaN</td>\n",
       "      <td>601.0</td>\n",
       "      <td>NaN</td>\n",
       "    </tr>\n",
       "    <tr>\n",
       "      <th>8937</th>\n",
       "      <td>b.e21.BHIST.f09_g17.CMIP6-historical.002</td>\n",
       "      <td>ocn</td>\n",
       "      <td>['185001', '201412']</td>\n",
       "      <td>1</td>\n",
       "      <td>historical_bdrd_cmip6</td>\n",
       "      <td>b.e21.BHIST.f09_g17.CMIP6-historical.002.pop.h...</td>\n",
       "      <td>/glade/collections/cdg/timeseries-cmip6/b.e21....</td>\n",
       "      <td>POP_gx1v7</td>\n",
       "      <td>0</td>\n",
       "      <td>pop.h</td>\n",
       "      <td>FG_CO2</td>\n",
       "      <td>NaN</td>\n",
       "      <td>631.0</td>\n",
       "      <td>NaN</td>\n",
       "    </tr>\n",
       "    <tr>\n",
       "      <th>5741</th>\n",
       "      <td>b.e21.BHIST.f09_g17.CMIP6-historical.003</td>\n",
       "      <td>ocn</td>\n",
       "      <td>['185001', '201412']</td>\n",
       "      <td>2</td>\n",
       "      <td>historical_bdrd_cmip6</td>\n",
       "      <td>b.e21.BHIST.f09_g17.CMIP6-historical.003.pop.h...</td>\n",
       "      <td>/glade/collections/cdg/timeseries-cmip6/b.e21....</td>\n",
       "      <td>POP_gx1v7</td>\n",
       "      <td>0</td>\n",
       "      <td>pop.h</td>\n",
       "      <td>FG_CO2</td>\n",
       "      <td>NaN</td>\n",
       "      <td>661.0</td>\n",
       "      <td>NaN</td>\n",
       "    </tr>\n",
       "    <tr>\n",
       "      <th>2545</th>\n",
       "      <td>b.e21.BHIST.f09_g17.CMIP6-historical.004</td>\n",
       "      <td>ocn</td>\n",
       "      <td>['185001', '201412']</td>\n",
       "      <td>3</td>\n",
       "      <td>historical_bdrd_cmip6</td>\n",
       "      <td>b.e21.BHIST.f09_g17.CMIP6-historical.004.pop.h...</td>\n",
       "      <td>/glade/collections/cdg/timeseries-cmip6/b.e21....</td>\n",
       "      <td>POP_gx1v7</td>\n",
       "      <td>0</td>\n",
       "      <td>pop.h</td>\n",
       "      <td>FG_CO2</td>\n",
       "      <td>NaN</td>\n",
       "      <td>501.0</td>\n",
       "      <td>NaN</td>\n",
       "    </tr>\n",
       "  </tbody>\n",
       "</table>\n",
       "</div>"
      ],
      "text/plain": [
       "                                           case component  \\\n",
       "12133  b.e21.BHIST.f09_g17.CMIP6-historical.001       ocn   \n",
       "8937   b.e21.BHIST.f09_g17.CMIP6-historical.002       ocn   \n",
       "5741   b.e21.BHIST.f09_g17.CMIP6-historical.003       ocn   \n",
       "2545   b.e21.BHIST.f09_g17.CMIP6-historical.004       ocn   \n",
       "\n",
       "                 date_range  ensemble             experiment  \\\n",
       "12133  ['185001', '201412']         0  historical_bdrd_cmip6   \n",
       "8937   ['185001', '201412']         1  historical_bdrd_cmip6   \n",
       "5741   ['185001', '201412']         2  historical_bdrd_cmip6   \n",
       "2545   ['185001', '201412']         3  historical_bdrd_cmip6   \n",
       "\n",
       "                                           file_basename  \\\n",
       "12133  b.e21.BHIST.f09_g17.CMIP6-historical.001.pop.h...   \n",
       "8937   b.e21.BHIST.f09_g17.CMIP6-historical.002.pop.h...   \n",
       "5741   b.e21.BHIST.f09_g17.CMIP6-historical.003.pop.h...   \n",
       "2545   b.e21.BHIST.f09_g17.CMIP6-historical.004.pop.h...   \n",
       "\n",
       "                                                   files       grid  \\\n",
       "12133  /glade/collections/cdg/timeseries-cmip6/b.e21....  POP_gx1v7   \n",
       "8937   /glade/collections/cdg/timeseries-cmip6/b.e21....  POP_gx1v7   \n",
       "5741   /glade/collections/cdg/timeseries-cmip6/b.e21....  POP_gx1v7   \n",
       "2545   /glade/collections/cdg/timeseries-cmip6/b.e21....  POP_gx1v7   \n",
       "\n",
       "       sequence_order stream variable  year_offset  ctrl_branch_year  \\\n",
       "12133               0  pop.h   FG_CO2          NaN             601.0   \n",
       "8937                0  pop.h   FG_CO2          NaN             631.0   \n",
       "5741                0  pop.h   FG_CO2          NaN             661.0   \n",
       "2545                0  pop.h   FG_CO2          NaN             501.0   \n",
       "\n",
       "       has_ocean_bgc  \n",
       "12133            NaN  \n",
       "8937             NaN  \n",
       "5741             NaN  \n",
       "2545             NaN  "
      ]
     },
     "execution_count": 18,
     "metadata": {},
     "output_type": "execute_result"
    }
   ],
   "source": [
    "data_catalog.find_in_index(experiment='historical_bdrd_cmip6',\n",
    "                           component='ocn',\n",
    "                           variable='FG_CO2')"
   ]
  },
  {
   "cell_type": "markdown",
   "metadata": {},
   "source": [
    "The following case happens to have the data divided into two files; a workflow using these would concatenated them time."
   ]
  },
  {
   "cell_type": "code",
   "execution_count": 19,
   "metadata": {},
   "outputs": [
    {
     "data": {
      "text/html": [
       "<div>\n",
       "<style scoped>\n",
       "    .dataframe tbody tr th:only-of-type {\n",
       "        vertical-align: middle;\n",
       "    }\n",
       "\n",
       "    .dataframe tbody tr th {\n",
       "        vertical-align: top;\n",
       "    }\n",
       "\n",
       "    .dataframe thead th {\n",
       "        text-align: right;\n",
       "    }\n",
       "</style>\n",
       "<table border=\"1\" class=\"dataframe\">\n",
       "  <thead>\n",
       "    <tr style=\"text-align: right;\">\n",
       "      <th></th>\n",
       "      <th>case</th>\n",
       "      <th>component</th>\n",
       "      <th>date_range</th>\n",
       "      <th>ensemble</th>\n",
       "      <th>experiment</th>\n",
       "      <th>file_basename</th>\n",
       "      <th>files</th>\n",
       "      <th>grid</th>\n",
       "      <th>sequence_order</th>\n",
       "      <th>stream</th>\n",
       "      <th>variable</th>\n",
       "      <th>year_offset</th>\n",
       "      <th>ctrl_branch_year</th>\n",
       "      <th>has_ocean_bgc</th>\n",
       "    </tr>\n",
       "  </thead>\n",
       "  <tbody>\n",
       "    <tr>\n",
       "      <th>460</th>\n",
       "      <td>g.e21a01d.G1850ECOIAF.T62_g17.extraterr-fe.001</td>\n",
       "      <td>ocn</td>\n",
       "      <td>['000101', '024012']</td>\n",
       "      <td>0</td>\n",
       "      <td>g.e21a01d.G1850ECOIAF.T62_g17.extraterr-fe.001</td>\n",
       "      <td>g.e21a01d.G1850ECOIAF.T62_g17.extraterr-fe.001...</td>\n",
       "      <td>/glade/scratch/mclong/archive/g.e21a01d.G1850E...</td>\n",
       "      <td>POP_gx1v7</td>\n",
       "      <td>0</td>\n",
       "      <td>pop.h</td>\n",
       "      <td>FG_CO2</td>\n",
       "      <td>1699.0</td>\n",
       "      <td>NaN</td>\n",
       "      <td>NaN</td>\n",
       "    </tr>\n",
       "    <tr>\n",
       "      <th>461</th>\n",
       "      <td>g.e21a01d.G1850ECOIAF.T62_g17.extraterr-fe.001</td>\n",
       "      <td>ocn</td>\n",
       "      <td>['024101', '031012']</td>\n",
       "      <td>0</td>\n",
       "      <td>g.e21a01d.G1850ECOIAF.T62_g17.extraterr-fe.001</td>\n",
       "      <td>g.e21a01d.G1850ECOIAF.T62_g17.extraterr-fe.001...</td>\n",
       "      <td>/glade/scratch/mclong/archive/g.e21a01d.G1850E...</td>\n",
       "      <td>POP_gx1v7</td>\n",
       "      <td>0</td>\n",
       "      <td>pop.h</td>\n",
       "      <td>FG_CO2</td>\n",
       "      <td>1699.0</td>\n",
       "      <td>NaN</td>\n",
       "      <td>NaN</td>\n",
       "    </tr>\n",
       "  </tbody>\n",
       "</table>\n",
       "</div>"
      ],
      "text/plain": [
       "                                               case component  \\\n",
       "460  g.e21a01d.G1850ECOIAF.T62_g17.extraterr-fe.001       ocn   \n",
       "461  g.e21a01d.G1850ECOIAF.T62_g17.extraterr-fe.001       ocn   \n",
       "\n",
       "               date_range  ensemble  \\\n",
       "460  ['000101', '024012']         0   \n",
       "461  ['024101', '031012']         0   \n",
       "\n",
       "                                         experiment  \\\n",
       "460  g.e21a01d.G1850ECOIAF.T62_g17.extraterr-fe.001   \n",
       "461  g.e21a01d.G1850ECOIAF.T62_g17.extraterr-fe.001   \n",
       "\n",
       "                                         file_basename  \\\n",
       "460  g.e21a01d.G1850ECOIAF.T62_g17.extraterr-fe.001...   \n",
       "461  g.e21a01d.G1850ECOIAF.T62_g17.extraterr-fe.001...   \n",
       "\n",
       "                                                 files       grid  \\\n",
       "460  /glade/scratch/mclong/archive/g.e21a01d.G1850E...  POP_gx1v7   \n",
       "461  /glade/scratch/mclong/archive/g.e21a01d.G1850E...  POP_gx1v7   \n",
       "\n",
       "     sequence_order stream variable  year_offset  ctrl_branch_year  \\\n",
       "460               0  pop.h   FG_CO2       1699.0               NaN   \n",
       "461               0  pop.h   FG_CO2       1699.0               NaN   \n",
       "\n",
       "     has_ocean_bgc  \n",
       "460            NaN  \n",
       "461            NaN  "
      ]
     },
     "execution_count": 19,
     "metadata": {},
     "output_type": "execute_result"
    }
   ],
   "source": [
    "data_catalog.find_in_index(experiment='g.e21a01d.G1850ECOIAF.T62_g17.extraterr-fe.001',\n",
    "                           component='ocn',\n",
    "                           variable='FG_CO2')"
   ]
  },
  {
   "cell_type": "markdown",
   "metadata": {},
   "source": [
    "The `get_entries` method returns list of each column match a query"
   ]
  },
  {
   "cell_type": "code",
   "execution_count": 20,
   "metadata": {},
   "outputs": [
    {
     "name": "stdout",
     "output_type": "stream",
     "text": [
      "case: [g.e21a01d.G1850ECOIAF.T62_g17.extraterr-fe.001, g.e21a01d.G1850ECOIAF.T62_g17.extraterr-fe.001]\n",
      "component: [ocn, ocn]\n",
      "ctrl_branch_year: [.nan, .nan]\n",
      "date_range: ['[''000101'', ''024012'']', '[''024101'', ''031012'']']\n",
      "ensemble: [0, 0]\n",
      "experiment: [g.e21a01d.G1850ECOIAF.T62_g17.extraterr-fe.001, g.e21a01d.G1850ECOIAF.T62_g17.extraterr-fe.001]\n",
      "file_basename: [g.e21a01d.G1850ECOIAF.T62_g17.extraterr-fe.001.pop.h.FG_CO2.000101-024012.nc,\n",
      "  g.e21a01d.G1850ECOIAF.T62_g17.extraterr-fe.001.pop.h.FG_CO2.024101-031012.nc]\n",
      "files: [/glade/scratch/mclong/archive/g.e21a01d.G1850ECOIAF.T62_g17.extraterr-fe.001/ocn/proc/tseries/month_1/g.e21a01d.G1850ECOIAF.T62_g17.extraterr-fe.001.pop.h.FG_CO2.000101-024012.nc,\n",
      "  /glade/scratch/mclong/archive/g.e21a01d.G1850ECOIAF.T62_g17.extraterr-fe.001/ocn/proc/tseries/month_1/g.e21a01d.G1850ECOIAF.T62_g17.extraterr-fe.001.pop.h.FG_CO2.024101-031012.nc]\n",
      "grid: [POP_gx1v7, POP_gx1v7]\n",
      "has_ocean_bgc: [.nan, .nan]\n",
      "sequence_order: [0, 0]\n",
      "stream: [pop.h, pop.h]\n",
      "variable: [FG_CO2, FG_CO2]\n",
      "year_offset: [1699.0, 1699.0]\n",
      "\n"
     ]
    }
   ],
   "source": [
    "entries = data_catalog.get_entries(experiment='g.e21a01d.G1850ECOIAF.T62_g17.extraterr-fe.001',\n",
    "                                   component='ocn',\n",
    "                                   variable='FG_CO2')\n",
    "\n",
    "print(yaml.dump(entries))"
   ]
  },
  {
   "cell_type": "markdown",
   "metadata": {},
   "source": [
    "The `get_files` method returns a (sorted) list of files."
   ]
  },
  {
   "cell_type": "markdown",
   "metadata": {},
   "source": [
    "If we don't specific an `ensemble`, we get all the files for all ensembles."
   ]
  },
  {
   "cell_type": "code",
   "execution_count": 21,
   "metadata": {},
   "outputs": [
    {
     "data": {
      "text/plain": [
       "['/glade/collections/cdg/timeseries-cmip6/b.e21.BHIST.f09_g17.CMIP6-historical.001/ocn/proc/tseries/month_1/b.e21.BHIST.f09_g17.CMIP6-historical.001.pop.h.FG_CO2.185001-201412.nc',\n",
       " '/glade/collections/cdg/timeseries-cmip6/b.e21.BHIST.f09_g17.CMIP6-historical.002/ocn/proc/tseries/month_1/b.e21.BHIST.f09_g17.CMIP6-historical.002.pop.h.FG_CO2.185001-201412.nc',\n",
       " '/glade/collections/cdg/timeseries-cmip6/b.e21.BHIST.f09_g17.CMIP6-historical.003/ocn/proc/tseries/month_1/b.e21.BHIST.f09_g17.CMIP6-historical.003.pop.h.FG_CO2.185001-201412.nc',\n",
       " '/glade/collections/cdg/timeseries-cmip6/b.e21.BHIST.f09_g17.CMIP6-historical.004/ocn/proc/tseries/month_1/b.e21.BHIST.f09_g17.CMIP6-historical.004.pop.h.FG_CO2.185001-201412.nc']"
      ]
     },
     "execution_count": 21,
     "metadata": {},
     "output_type": "execute_result"
    }
   ],
   "source": [
    "data_catalog.get_files(experiment='historical_bdrd_cmip6',\n",
    "                       component='ocn',\n",
    "                       variable='FG_CO2')"
   ]
  },
  {
   "cell_type": "markdown",
   "metadata": {},
   "source": [
    "Specifying the `ensemble` returns just that file."
   ]
  },
  {
   "cell_type": "code",
   "execution_count": 22,
   "metadata": {},
   "outputs": [
    {
     "data": {
      "text/plain": [
       "['/glade/collections/cdg/timeseries-cmip6/b.e21.BHIST.f09_g17.CMIP6-historical.001/ocn/proc/tseries/month_1/b.e21.BHIST.f09_g17.CMIP6-historical.001.pop.h.FG_CO2.185001-201412.nc']"
      ]
     },
     "execution_count": 22,
     "metadata": {},
     "output_type": "execute_result"
    }
   ],
   "source": [
    "data_catalog.get_files(experiment='historical_bdrd_cmip6',\n",
    "                       component='ocn',\n",
    "                       ensemble=0,\n",
    "                       variable='FG_CO2')"
   ]
  },
  {
   "cell_type": "markdown",
   "metadata": {},
   "source": [
    "## the return value of a query can be manipulated to get unique attributes"
   ]
  },
  {
   "cell_type": "code",
   "execution_count": 23,
   "metadata": {},
   "outputs": [
    {
     "data": {
      "text/plain": [
       "array(['atm', 'glc', 'ice', 'lnd', 'ocn', 'rof'], dtype=object)"
      ]
     },
     "execution_count": 23,
     "metadata": {},
     "output_type": "execute_result"
    }
   ],
   "source": [
    "data_catalog.find_in_index(experiment='historical_bdrd_cmip6').component.unique()"
   ]
  },
  {
   "cell_type": "code",
   "execution_count": 24,
   "metadata": {},
   "outputs": [
    {
     "data": {
      "text/plain": [
       "array(['POP_gx1v7'], dtype=object)"
      ]
     },
     "execution_count": 24,
     "metadata": {},
     "output_type": "execute_result"
    }
   ],
   "source": [
    "data_catalog.find_in_index(experiment='historical_bdrd_cmip6',\n",
    "                           component='ocn',\n",
    "                           variable='FG_CO2').grid.unique()"
   ]
  },
  {
   "cell_type": "markdown",
   "metadata": {},
   "source": [
    "The grid column is coming from the `collections.yml` input file, so if it wasnt' specified for some components, it will be `nan`"
   ]
  },
  {
   "cell_type": "code",
   "execution_count": 25,
   "metadata": {},
   "outputs": [
    {
     "data": {
      "text/plain": [
       "array([nan, 'POP_gx1v7'], dtype=object)"
      ]
     },
     "execution_count": 25,
     "metadata": {},
     "output_type": "execute_result"
    }
   ],
   "source": [
    "data_catalog.find_in_index(experiment='historical_bdrd_cmip6').grid.unique()"
   ]
  },
  {
   "cell_type": "markdown",
   "metadata": {},
   "source": [
    "Determine how many ensembles exist."
   ]
  },
  {
   "cell_type": "code",
   "execution_count": 26,
   "metadata": {},
   "outputs": [
    {
     "data": {
      "text/plain": [
       "array([0, 1, 2, 3])"
      ]
     },
     "execution_count": 26,
     "metadata": {},
     "output_type": "execute_result"
    }
   ],
   "source": [
    "data_catalog.find_in_index(experiment='historical_bdrd_cmip6',\n",
    "                           component='ocn',\n",
    "                           variable='FG_CO2').ensemble.unique()"
   ]
  },
  {
   "cell_type": "code",
   "execution_count": 27,
   "metadata": {},
   "outputs": [
    {
     "data": {
      "text/plain": [
       "array([0])"
      ]
     },
     "execution_count": 27,
     "metadata": {},
     "output_type": "execute_result"
    }
   ],
   "source": [
    "data_catalog.find_in_index(experiment='g.e21a01d.G1850ECOIAF.T62_g17.extraterr-fe.001',\n",
    "                           component='ocn',\n",
    "                           variable='FG_CO2').ensemble.unique()"
   ]
  },
  {
   "cell_type": "code",
   "execution_count": 28,
   "metadata": {},
   "outputs": [
    {
     "data": {
      "text/plain": [
       "array([], dtype=object)"
      ]
     },
     "execution_count": 28,
     "metadata": {},
     "output_type": "execute_result"
    }
   ],
   "source": [
    "data_catalog.find_in_index(experiment='ctrl_ocean-ice-core').component.unique()"
   ]
  },
  {
   "cell_type": "markdown",
   "metadata": {},
   "source": [
    "Again, the following dataset has 2 files for a single ensemble."
   ]
  },
  {
   "cell_type": "code",
   "execution_count": 29,
   "metadata": {},
   "outputs": [
    {
     "data": {
      "text/plain": [
       "[]"
      ]
     },
     "execution_count": 29,
     "metadata": {},
     "output_type": "execute_result"
    }
   ],
   "source": [
    "data_catalog.get_files(experiment='ctrl_ocean-ice-core',\n",
    "                       component='ocn',\n",
    "                       ensemble=0,\n",
    "                       variable='FG_CO2')"
   ]
  },
  {
   "cell_type": "markdown",
   "metadata": {},
   "source": [
    "## switch catalogs: CESM-LE"
   ]
  },
  {
   "cell_type": "code",
   "execution_count": 30,
   "metadata": {},
   "outputs": [
    {
     "name": "stdout",
     "output_type": "stream",
     "text": [
      "active catalog: cesm1_le\n"
     ]
    }
   ],
   "source": [
    "data_catalog.set_catalog('cesm1_le')"
   ]
  },
  {
   "cell_type": "markdown",
   "metadata": {},
   "source": [
    "A key use case is to concatenate transient experiments; passing a list of experiments to the query enables this. The `sequence_order` field enables putting things in the right order."
   ]
  },
  {
   "cell_type": "code",
   "execution_count": 31,
   "metadata": {},
   "outputs": [],
   "source": [
    "entries = data_catalog.get_entries(experiment=['20C', 'RCP85'],\n",
    "                         component='ocn',\n",
    "                         ensemble=1,\n",
    "                         variable='FG_CO2')"
   ]
  },
  {
   "cell_type": "markdown",
   "metadata": {},
   "source": [
    "The `get_files` method should return a sorted list of files with the `sequence_order` applied."
   ]
  },
  {
   "cell_type": "code",
   "execution_count": 32,
   "metadata": {},
   "outputs": [
    {
     "data": {
      "text/plain": [
       "['/glade/collections/cdg/data/cesmLE/CESM-CAM5-BGC-LE/ocn/proc/tseries/monthly/FG_CO2/b.e11.B20TRC5CNBDRD.f09_g16.001.pop.h.FG_CO2.185001-200512.nc',\n",
       " '/glade/collections/cdg/data/cesmLE/CESM-CAM5-BGC-LE/ocn/proc/tseries/monthly/FG_CO2/b.e11.BRCP85C5CNBDRD.f09_g16.001.pop.h.FG_CO2.200601-208012.nc',\n",
       " '/glade/collections/cdg/data/cesmLE/CESM-CAM5-BGC-LE/ocn/proc/tseries/monthly/FG_CO2/b.e11.BRCP85C5CNBDRD.f09_g16.001.pop.h.FG_CO2.208101-210012.nc']"
      ]
     },
     "execution_count": 32,
     "metadata": {},
     "output_type": "execute_result"
    }
   ],
   "source": [
    "data_catalog.get_files(experiment=['20C', 'RCP85'],\n",
    "                       component='ocn',\n",
    "                       ensemble=1,\n",
    "                       variable='FG_CO2')"
   ]
  },
  {
   "cell_type": "markdown",
   "metadata": {},
   "source": [
    "The `get_entries` method returns a dictionary with lists of all fields from a query."
   ]
  },
  {
   "cell_type": "code",
   "execution_count": 33,
   "metadata": {},
   "outputs": [
    {
     "name": "stdout",
     "output_type": "stream",
     "text": [
      "case: [b.e11.B20TRC5CNBDRD.f09_g16.001, b.e11.BRCP85C5CNBDRD.f09_g16.001, b.e11.BRCP85C5CNBDRD.f09_g16.001]\n",
      "component: [ocn, ocn, ocn]\n",
      "ctrl_branch_year: [.nan, .nan, .nan]\n",
      "date_range: ['[''185001'', ''200512'']', '[''200601'', ''208012'']', '[''208101'',\n",
      "    ''210012'']']\n",
      "ensemble: [1, 1, 1]\n",
      "experiment: [20C, RCP85, RCP85]\n",
      "file_basename: [b.e11.B20TRC5CNBDRD.f09_g16.001.pop.h.FG_CO2.185001-200512.nc, b.e11.BRCP85C5CNBDRD.f09_g16.001.pop.h.FG_CO2.200601-208012.nc,\n",
      "  b.e11.BRCP85C5CNBDRD.f09_g16.001.pop.h.FG_CO2.208101-210012.nc]\n",
      "files: [/glade/collections/cdg/data/cesmLE/CESM-CAM5-BGC-LE/ocn/proc/tseries/monthly/FG_CO2/b.e11.B20TRC5CNBDRD.f09_g16.001.pop.h.FG_CO2.185001-200512.nc,\n",
      "  /glade/collections/cdg/data/cesmLE/CESM-CAM5-BGC-LE/ocn/proc/tseries/monthly/FG_CO2/b.e11.BRCP85C5CNBDRD.f09_g16.001.pop.h.FG_CO2.200601-208012.nc,\n",
      "  /glade/collections/cdg/data/cesmLE/CESM-CAM5-BGC-LE/ocn/proc/tseries/monthly/FG_CO2/b.e11.BRCP85C5CNBDRD.f09_g16.001.pop.h.FG_CO2.208101-210012.nc]\n",
      "freq: [month_1, month_1, month_1]\n",
      "grid: [POP_gx1v6, POP_gx1v6, POP_gx1v6]\n",
      "has_ocean_bgc: [true, true, true]\n",
      "sequence_order: [0, 1, 1]\n",
      "variable: [FG_CO2, FG_CO2, FG_CO2]\n",
      "year_offset: [.nan, .nan, .nan]\n",
      "\n"
     ]
    }
   ],
   "source": [
    "entries = data_catalog.get_entries(experiment=['20C', 'RCP85'],\n",
    "                         component='ocn',\n",
    "                         ensemble=1,\n",
    "                         variable='FG_CO2')\n",
    "print(yaml.dump(entries))"
   ]
  },
  {
   "cell_type": "code",
   "execution_count": 34,
   "metadata": {},
   "outputs": [
    {
     "data": {
      "text/plain": [
       "{'case': ['b.e11.B20TRC5CNBDRD.f09_g16.001',\n",
       "  'b.e11.B20TRC5CNBDRD.f09_g16.001',\n",
       "  'b.e11.BRCP85C5CNBDRD.f09_g16.001',\n",
       "  'b.e11.BRCP85C5CNBDRD.f09_g16.001',\n",
       "  'b.e11.BRCP85C5CNBDRD.f09_g16.001',\n",
       "  'b.e11.BRCP85C5CNBDRD.f09_g16.001'],\n",
       " 'component': ['ocn', 'ocn', 'ocn', 'ocn', 'ocn', 'ocn'],\n",
       " 'date_range': [\"['185001', '200512']\",\n",
       "  \"['185001', '200512']\",\n",
       "  \"['200601', '208012']\",\n",
       "  \"['208101', '210012']\",\n",
       "  \"['200601', '208012']\",\n",
       "  \"['208101', '210012']\"],\n",
       " 'ensemble': [1, 1, 1, 1, 1, 1],\n",
       " 'experiment': ['20C', '20C', 'RCP85', 'RCP85', 'RCP85', 'RCP85'],\n",
       " 'file_basename': ['b.e11.B20TRC5CNBDRD.f09_g16.001.pop.h.DIC.185001-200512.nc',\n",
       "  'b.e11.B20TRC5CNBDRD.f09_g16.001.pop.h.FG_CO2.185001-200512.nc',\n",
       "  'b.e11.BRCP85C5CNBDRD.f09_g16.001.pop.h.DIC.200601-208012.nc',\n",
       "  'b.e11.BRCP85C5CNBDRD.f09_g16.001.pop.h.DIC.208101-210012.nc',\n",
       "  'b.e11.BRCP85C5CNBDRD.f09_g16.001.pop.h.FG_CO2.200601-208012.nc',\n",
       "  'b.e11.BRCP85C5CNBDRD.f09_g16.001.pop.h.FG_CO2.208101-210012.nc'],\n",
       " 'files': ['/glade/collections/cdg/data/cesmLE/CESM-CAM5-BGC-LE/ocn/proc/tseries/monthly/DIC/b.e11.B20TRC5CNBDRD.f09_g16.001.pop.h.DIC.185001-200512.nc',\n",
       "  '/glade/collections/cdg/data/cesmLE/CESM-CAM5-BGC-LE/ocn/proc/tseries/monthly/FG_CO2/b.e11.B20TRC5CNBDRD.f09_g16.001.pop.h.FG_CO2.185001-200512.nc',\n",
       "  '/glade/collections/cdg/data/cesmLE/CESM-CAM5-BGC-LE/ocn/proc/tseries/monthly/DIC/b.e11.BRCP85C5CNBDRD.f09_g16.001.pop.h.DIC.200601-208012.nc',\n",
       "  '/glade/collections/cdg/data/cesmLE/CESM-CAM5-BGC-LE/ocn/proc/tseries/monthly/DIC/b.e11.BRCP85C5CNBDRD.f09_g16.001.pop.h.DIC.208101-210012.nc',\n",
       "  '/glade/collections/cdg/data/cesmLE/CESM-CAM5-BGC-LE/ocn/proc/tseries/monthly/FG_CO2/b.e11.BRCP85C5CNBDRD.f09_g16.001.pop.h.FG_CO2.200601-208012.nc',\n",
       "  '/glade/collections/cdg/data/cesmLE/CESM-CAM5-BGC-LE/ocn/proc/tseries/monthly/FG_CO2/b.e11.BRCP85C5CNBDRD.f09_g16.001.pop.h.FG_CO2.208101-210012.nc'],\n",
       " 'freq': ['month_1', 'month_1', 'month_1', 'month_1', 'month_1', 'month_1'],\n",
       " 'grid': ['POP_gx1v6',\n",
       "  'POP_gx1v6',\n",
       "  'POP_gx1v6',\n",
       "  'POP_gx1v6',\n",
       "  'POP_gx1v6',\n",
       "  'POP_gx1v6'],\n",
       " 'has_ocean_bgc': [True, True, True, True, True, True],\n",
       " 'sequence_order': [0, 0, 1, 1, 1, 1],\n",
       " 'variable': ['DIC', 'FG_CO2', 'DIC', 'DIC', 'FG_CO2', 'FG_CO2'],\n",
       " 'year_offset': [nan, nan, nan, nan, nan, nan],\n",
       " 'ctrl_branch_year': [nan, nan, nan, nan, nan, nan]}"
      ]
     },
     "execution_count": 34,
     "metadata": {},
     "output_type": "execute_result"
    }
   ],
   "source": [
    "data_catalog.get_entries(experiment=['20C', 'RCP85'],\n",
    "                         component='ocn',\n",
    "                         ensemble=1,\n",
    "                         variable=['DIC', 'FG_CO2'])"
   ]
  },
  {
   "cell_type": "code",
   "execution_count": null,
   "metadata": {},
   "outputs": [],
   "source": []
  }
 ],
 "metadata": {
  "kernelspec": {
   "display_name": "Python 3",
   "language": "python",
   "name": "python3"
  },
  "language_info": {
   "codemirror_mode": {
    "name": "ipython",
    "version": 3
   },
   "file_extension": ".py",
   "mimetype": "text/x-python",
   "name": "python",
   "nbconvert_exporter": "python",
   "pygments_lexer": "ipython3",
   "version": "3.6.7"
  }
 },
 "nbformat": 4,
 "nbformat_minor": 2
}
